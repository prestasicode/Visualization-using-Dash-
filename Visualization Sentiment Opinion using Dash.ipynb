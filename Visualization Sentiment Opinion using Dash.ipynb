{
 "cells": [
  {
   "cell_type": "code",
   "execution_count": 1,
   "metadata": {},
   "outputs": [],
   "source": [
    "import dash\n",
    "import dash_core_components as dcc\n",
    "import dash_html_components as html"
   ]
  },
  {
   "cell_type": "code",
   "execution_count": 15,
   "metadata": {},
   "outputs": [],
   "source": [
    "app = dash.Dash()\n",
    "colors = {\n",
    "    'background': '#111111',\n",
    "    'text': '#7FDBFF'\n",
    "}\n",
    "app.layout = html.Div(style={'backgroundColor': colors['background']}, children=[\n",
    "    html.H1(\n",
    "        children='ANALISIS SENTIMEN OPINI MASYARAKAT TERHADAP BAKAL CALON WALIKOTA SURABAYA 2020 BERDASARKAN SOCIAL MEDIA MINING MENGGUNAKAN ALGORITMA N-GRAM-MULTICHANNEL CNN',\n",
    "        style={\n",
    "            'textAlign': 'center',\n",
    "            'color': colors['text']\n",
    "        }\n",
    "    ),\n",
    "    html.Div(children='Deskripsi Data Uji Coba: Rincian Jumlah Opini Positif dan Negatif Masing-masing Bakal Calon.', style={\n",
    "        'textAlign': 'center',\n",
    "        'color': colors['text']\n",
    "    }),\n",
    "    dcc.Graph(\n",
    "        id='Graph1',\n",
    "        figure={\n",
    "            'data': [\n",
    "                {'x': [0, 1], 'y': [1072, 8803], 'type': 'bar', 'name': 'Whisnu Sakti Buana'},\n",
    "                {'x': [0, 1], 'y': [323, 679], 'type': 'bar', 'name': u'Dyah Katarina'},\n",
    "                {'x': [0, 1], 'y': [1253, 4147], 'type': 'bar', 'name': 'Gamal Albinsaid'},\n",
    "                {'x': [0, 1], 'y': [1628, 7134], 'type': 'bar', 'name': u'Machfud Arifin'},\n",
    "                {'x': [0, 1], 'y': [214, 318], 'type': 'bar', 'name': 'Zahrul Azhar Asad'},\n",
    "                {'x': [0, 1], 'y': [15, 17], 'type': 'bar', 'name': u'Hariyanto'},\n",
    "                {'x': [0, 1], 'y': [65, 189], 'type': 'bar', 'name': 'Achmad Zakaria'},\n",
    "                {'x': [0, 1], 'y': [34, 87], 'type': 'bar', 'name': u'Reni Astuti'},\n",
    "                {'x': [0, 1], 'y': [30, 73], 'type': 'bar', 'name': 'Sigit Sosiantomo'},\n",
    "                {'x': [0, 1], 'y': [95, 103], 'type': 'bar', 'name': u'Hanif Dhakiri'},\n",
    "                {'x': [0, 1], 'y': [1385, 3136], 'type': 'bar', 'name': 'M. Sholeh'},\n",
    "                {'x': [0, 1], 'y': [2002, 9552], 'type': 'bar', 'name': u'Eri Cahyadi'},\n",
    "                {'x': [0, 1], 'y': [17, 67], 'type': 'bar', 'name': 'Fandi Eko Utomo'},\n",
    "                {'x': [0, 1], 'y': [96, 101], 'type': 'bar', 'name': u'Untung Suropati'},\n",
    "                {'x': [0, 1], 'y': [36, 65], 'type': 'bar', 'name': 'Arif Afandi'},\n",
    "                {'x': [0, 1], 'y': [21, 77], 'type': 'bar', 'name': u'Anwar Sadad'},\n",
    "                {'x': [0, 1], 'y': [26, 31], 'type': 'bar', 'name': u'Toni Tamatompol'},\n",
    "            ],\n",
    "            'layout': {\n",
    "                'plot_bgcolor': colors['background'],\n",
    "                'paper_bgcolor': colors['background'],\n",
    "                'font': {\n",
    "                    'color': colors['text']\n",
    "                }\n",
    "            }\n",
    "        }\n",
    "    )\n",
    "])"
   ]
  },
  {
   "cell_type": "code",
   "execution_count": null,
   "metadata": {},
   "outputs": [
    {
     "name": "stdout",
     "output_type": "stream",
     "text": [
      "Dash is running on http://127.0.0.1:8050/\n",
      "\n",
      "Dash is running on http://127.0.0.1:8050/\n",
      "\n",
      "Dash is running on http://127.0.0.1:8050/\n",
      "\n",
      "Dash is running on http://127.0.0.1:8050/\n",
      "\n",
      "Dash is running on http://127.0.0.1:8050/\n",
      "\n",
      "Dash is running on http://127.0.0.1:8050/\n",
      "\n",
      "Dash is running on http://127.0.0.1:8050/\n",
      "\n",
      " Warning: This is a development server. Do not use app.run_server\n",
      " Warning: This is a development server. Do not use app.run_server\n",
      " Warning: This is a development server. Do not use app.run_server\n",
      " Warning: This is a development server. Do not use app.run_server\n",
      " Warning: This is a development server. Do not use app.run_server\n",
      " Warning: This is a development server. Do not use app.run_server\n",
      " Warning: This is a development server. Do not use app.run_server\n",
      " in production, use a production WSGI server like gunicorn instead.\n",
      "\n",
      " in production, use a production WSGI server like gunicorn instead.\n",
      "\n",
      " in production, use a production WSGI server like gunicorn instead.\n",
      "\n",
      " in production, use a production WSGI server like gunicorn instead.\n",
      "\n",
      " in production, use a production WSGI server like gunicorn instead.\n",
      "\n",
      " in production, use a production WSGI server like gunicorn instead.\n",
      "\n",
      " in production, use a production WSGI server like gunicorn instead.\n",
      "\n",
      " * Serving Flask app \"__main__\" (lazy loading)\n",
      " * Environment: production\n",
      "   WARNING: This is a development server. Do not use it in a production deployment.\n",
      "   Use a production WSGI server instead.\n",
      " * Debug mode: off\n"
     ]
    }
   ],
   "source": [
    "if __name__ == '__main__':\n",
    "    app.run_server(debug=False)"
   ]
  },
  {
   "cell_type": "code",
   "execution_count": null,
   "metadata": {},
   "outputs": [],
   "source": []
  }
 ],
 "metadata": {
  "kernelspec": {
   "display_name": "Python 3",
   "language": "python",
   "name": "python3"
  },
  "language_info": {
   "codemirror_mode": {
    "name": "ipython",
    "version": 3
   },
   "file_extension": ".py",
   "mimetype": "text/x-python",
   "name": "python",
   "nbconvert_exporter": "python",
   "pygments_lexer": "ipython3",
   "version": "3.7.6"
  }
 },
 "nbformat": 4,
 "nbformat_minor": 4
}
